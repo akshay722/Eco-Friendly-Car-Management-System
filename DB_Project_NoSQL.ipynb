{
 "cells": [
  {
   "cell_type": "code",
   "execution_count": 4,
   "id": "36e0b263",
   "metadata": {},
   "outputs": [],
   "source": [
    "import pymongo"
   ]
  },
  {
   "cell_type": "code",
   "execution_count": 5,
   "id": "8613bc80",
   "metadata": {},
   "outputs": [],
   "source": [
    "from pymongo import MongoClient"
   ]
  },
  {
   "cell_type": "code",
   "execution_count": 15,
   "id": "62518266",
   "metadata": {},
   "outputs": [],
   "source": [
    "try:\n",
    "    client = pymongo.MongoClient(\"mongodb://localhost:27017\")\n",
    "    db = client[\"EV_database\"]\n",
    "    collection = db[\"car\"]\n",
    "    dealership_collection = db['dealerships']\n",
    "    location_collection = db['dealershipLocations']\n",
    "\n",
    "except pymongo.errors.ServerSelectionTimeoutError as err:\n",
    "    print(f\"Connection error: {err}\")\n",
    "    print(\"Make sure MongoDB is running and accessible.\")\n",
    "    # Handle the error as needed, or just continue with the rest of your code\n",
    "    pass\n"
   ]
  },
  {
   "cell_type": "code",
   "execution_count": 16,
   "id": "bf3cae24",
   "metadata": {},
   "outputs": [
    {
     "name": "stdout",
     "output_type": "stream",
     "text": [
      "[{'VIN': '3VW4T7AU1FM100011', 'Make': 'Volkswagen', 'Model': 'e-Golf', 'Eco_Class': 'Electric', 'Manufacture_Year': 2018, 'Price': 30000, 'CarType': 'Sedan', 'Cond': 'Used', 'Dealership_num': 20}, {'VIN': 'KM8J3CA29KU100012', 'Make': 'Hyundai', 'Model': 'Kona', 'Eco_Class': 'Electric', 'Manufacture_Year': 2022, 'Price': 35000, 'CarType': 'SUV', 'Cond': 'New', 'Dealership_num': 16}, {'VIN': '1GNSCBE03DR100013', 'Make': 'Chevrolet', 'Model': 'Suburban', 'Eco_Class': 'Hybrid', 'Manufacture_Year': 2017, 'Price': 28000, 'CarType': 'SUV', 'Cond': 'Used', 'Dealership_num': 16}, {'VIN': '5FNRL6H71JB100014', 'Make': 'Honda', 'Model': 'Pilot', 'Eco_Class': 'Hybrid', 'Manufacture_Year': 2021, 'Price': 40000, 'CarType': 'SUV', 'Cond': 'New', 'Dealership_num': 18}, {'VIN': 'WDCGG8JB9FG100015', 'Make': 'Mercedes-Benz', 'Model': 'GLC', 'Eco_Class': 'Electric', 'Manufacture_Year': 2023, 'Price': 55000, 'CarType': 'SUV', 'Cond': 'New', 'Dealership_num': 3}, {'VIN': 'JTDZN3EU2FJ100016', 'Make': 'Toyota', 'Model': 'Camry', 'Eco_Class': 'Hybrid', 'Manufacture_Year': 2019, 'Price': 25000, 'CarType': 'Sedan', 'Cond': 'Used', 'Dealership_num': 3}, {'VIN': '1C6SRFFT1MN100017', 'Make': 'Ram', 'Model': '1500', 'Eco_Class': 'Hybrid', 'Manufacture_Year': 2020, 'Price': 35000, 'CarType': 'SUV', 'Cond': 'Used', 'Dealership_num': 3}, {'VIN': '1G1RD6E40FU100018', 'Make': 'Chevrolet', 'Model': 'Spark', 'Eco_Class': 'Electric', 'Manufacture_Year': 2022, 'Price': 20000, 'CarType': 'Sedan', 'Cond': 'New', 'Dealership_num': 3}, {'VIN': 'JTHBE1BL0DA100019', 'Make': 'Lexus', 'Model': 'ES', 'Eco_Class': 'Hybrid', 'Manufacture_Year': 2021, 'Price': 42000, 'CarType': 'Sedan', 'Cond': 'New', 'Dealership_num': 3}, {'VIN': '2T1KR32E13C123456', 'Make': 'Toyota', 'Model': 'Corolla', 'Eco_Class': 'Hybrid', 'Manufacture_Year': 2022, 'Price': 28000, 'CarType': 'Sedan', 'Cond': 'New', 'Dealership_num': 3}, {'VIN': '1GNSCBE04ER654321', 'Make': 'Chevrolet', 'Model': 'Suburban', 'Eco_Class': 'Hybrid', 'Manufacture_Year': 2019, 'Price': 45000, 'CarType': 'SUV', 'Cond': 'Used', 'Dealership_num': 20}, {'VIN': '1FAHP3K21CL100001', 'Make': 'Ford', 'Model': 'Focus', 'Eco_Class': 'Electric', 'Manufacture_Year': 2018, 'Price': 22000, 'CarType': 'Sedan', 'Cond': 'Used', 'Dealership_num': 19}, {'VIN': 'JHMGE8H38CC100002', 'Make': 'Honda', 'Model': 'Fit', 'Eco_Class': 'Hybrid', 'Manufacture_Year': 2023, 'Price': 30000, 'CarType': 'Sedan', 'Cond': 'New', 'Dealership_num': 16}, {'VIN': '5TDYK3DC8ES100003', 'Make': 'Toyota', 'Model': 'Highlander', 'Eco_Class': 'Hybrid', 'Manufacture_Year': 2020, 'Price': 38000, 'CarType': 'SUV', 'Cond': 'Used', 'Dealership_num': 4}, {'VIN': '1GNKRHKD3GJ100004', 'Make': 'Chevrolet', 'Model': 'Traverse', 'Eco_Class': 'Hybrid', 'Manufacture_Year': 2021, 'Price': 32000, 'CarType': 'SUV', 'Cond': 'New', 'Dealership_num': 4}, {'VIN': '5FNRL6H7XGB100005', 'Make': 'Honda', 'Model': 'Odyssey', 'Eco_Class': 'Hybrid', 'Manufacture_Year': 2017, 'Price': 25000, 'CarType': 'Van', 'Cond': 'Used', 'Dealership_num': 4}, {'VIN': '1C4RDHDG0KC100006', 'Make': 'Dodge', 'Model': 'Durango', 'Eco_Class': 'Hybrid', 'Manufacture_Year': 2018, 'Price': 28000, 'CarType': 'SUV', 'Cond': 'Used', 'Dealership_num': 17}, {'VIN': '1HGCM82633A100007', 'Make': 'Honda', 'Model': 'Accord', 'Eco_Class': 'Hybrid', 'Manufacture_Year': 2020, 'Price': 29000, 'CarType': 'Sedan', 'Cond': 'Used', 'Dealership_num': 15}, {'VIN': '1G1FY6S07H5110008', 'Make': 'Chevrolet', 'Model': 'Camaro', 'Eco_Class': 'Electric', 'Manufacture_Year': 2019, 'Price': 35000, 'CarType': 'Coupe', 'Cond': 'Used', 'Dealership_num': 20}, {'VIN': 'JTHCE1BL5FA100009', 'Make': 'Lexus', 'Model': 'GS', 'Eco_Class': 'Hybrid', 'Manufacture_Year': 2022, 'Price': 48000, 'CarType': 'Sedan', 'Cond': 'New', 'Dealership_num': 5}, {'VIN': '3N1AB7AP5GY100010', 'Make': 'Nissan', 'Model': 'Leaf', 'Eco_Class': 'Electric', 'Manufacture_Year': 2023, 'Price': 30000, 'CarType': 'Hatchback', 'Cond': 'New', 'Dealership_num': 5}, {'VIN': '1GKKRPED7BJ100011', 'Make': 'GMC', 'Model': 'Acadia', 'Eco_Class': 'Hybrid', 'Manufacture_Year': 2017, 'Price': 26000, 'CarType': 'SUV', 'Cond': 'Used', 'Dealership_num': 5}, {'VIN': 'JTEBU5JR5G5270012', 'Make': 'Toyota', 'Model': '4Runner', 'Eco_Class': 'Hybrid', 'Manufacture_Year': 2021, 'Price': 42000, 'CarType': 'SUV', 'Cond': 'New', 'Dealership_num': 5}, {'VIN': '2HKRW1H8XJH100013', 'Make': 'Honda', 'Model': 'CR-V', 'Eco_Class': 'Hybrid', 'Manufacture_Year': 2020, 'Price': 33000, 'CarType': 'SUV', 'Cond': 'Used', 'Dealership_num': 11}, {'VIN': '1GNKVGKD1HJ100014', 'Make': 'Chevrolet', 'Model': 'Trax', 'Eco_Class': 'Electric', 'Manufacture_Year': 2018, 'Price': 24000, 'CarType': 'SUV', 'Cond': 'Used', 'Dealership_num': 12}, {'VIN': '1FADP3L96JL100015', 'Make': 'Ford', 'Model': 'Focus', 'Eco_Class': 'Electric', 'Manufacture_Year': 2022, 'Price': 32000, 'CarType': 'Hatchback', 'Cond': 'New', 'Dealership_num': 14}, {'VIN': '5NMS2CAD8KH100016', 'Make': 'Hyundai', 'Model': 'Santa Fe', 'Eco_Class': 'Hybrid', 'Manufacture_Year': 2019, 'Price': 36000, 'CarType': 'SUV', 'Cond': 'Used', 'Dealership_num': 6}, {'VIN': 'WBA4Z1C59JD100017', 'Make': 'BMW', 'Model': '440i', 'Eco_Class': 'Electric', 'Manufacture_Year': 2021, 'Price': 50000, 'CarType': 'Coupe', 'Cond': 'New', 'Dealership_num': 6}, {'VIN': '1HGCR2F55EA100018', 'Make': 'Honda', 'Model': 'Accord', 'Eco_Class': 'Hybrid', 'Manufacture_Year': 2018, 'Price': 27000, 'CarType': 'Sedan', 'Cond': 'Used', 'Dealership_num': 6}, {'VIN': '2T1BPRHE2EC123456', 'Make': 'Toyota', 'Model': 'Camry', 'Eco_Class': 'Hybrid', 'Manufacture_Year': 2022, 'Price': 28000, 'CarType': 'Sedan', 'Cond': 'New', 'Dealership_num': 6}, {'VIN': '1GNLREEDXCS654321', 'Make': 'Chevrolet', 'Model': 'Equinox', 'Eco_Class': 'Hybrid', 'Manufacture_Year': 2019, 'Price': 45000, 'CarType': 'SUV', 'Cond': 'Used', 'Dealership_num': 7}, {'VIN': '1FAHP3J27CL100019', 'Make': 'Ford', 'Model': 'Fiesta', 'Eco_Class': 'Electric', 'Manufacture_Year': 2018, 'Price': 22000, 'CarType': 'Hatchback', 'Cond': 'Used', 'Dealership_num': 7}, {'VIN': 'JHMGE8H88CC100020', 'Make': 'Honda', 'Model': 'Civic', 'Eco_Class': 'Hybrid', 'Manufacture_Year': 2023, 'Price': 30000, 'CarType': 'Sedan', 'Cond': 'New', 'Dealership_num': 7}, {'VIN': '5TDYK3EH8FS100021', 'Make': 'Toyota', 'Model': 'Sienna', 'Eco_Class': 'Hybrid', 'Manufacture_Year': 2020, 'Price': 38000, 'CarType': 'Van', 'Cond': 'Used', 'Dealership_num': 8}, {'VIN': '1GNKRHKD3GJ100022', 'Make': 'Chevrolet', 'Model': 'Traverse', 'Eco_Class': 'Hybrid', 'Manufacture_Year': 2021, 'Price': 32000, 'CarType': 'SUV', 'Cond': 'New', 'Dealership_num': 8}, {'VIN': '5FNRL6H7XGB100023', 'Make': 'Honda', 'Model': 'Odyssey', 'Eco_Class': 'Hybrid', 'Manufacture_Year': 2017, 'Price': 25000, 'CarType': 'Van', 'Cond': 'Used', 'Dealership_num': 8}, {'VIN': '1C4RDHDG0KC100024', 'Make': 'Dodge', 'Model': 'Durango', 'Eco_Class': 'Hybrid', 'Manufacture_Year': 2018, 'Price': 28000, 'CarType': 'SUV', 'Cond': 'Used', 'Dealership_num': 9}, {'VIN': '1HGCM82633A100025', 'Make': 'Honda', 'Model': 'Accord', 'Eco_Class': 'Hybrid', 'Manufacture_Year': 2020, 'Price': 29000, 'CarType': 'Sedan', 'Cond': 'Used', 'Dealership_num': 9}]\n"
     ]
    }
   ],
   "source": [
    "car_data = [\n",
    "    {'VIN': '3VW4T7AU1FM100011', 'Make': 'Volkswagen', 'Model': 'e-Golf', 'Eco_Class': 'Electric', 'Manufacture_Year': 2018, 'Price': 30000, 'CarType': 'Sedan', 'Cond': 'Used', 'Dealership_num': 20},\n",
    "    {'VIN': 'KM8J3CA29KU100012', 'Make': 'Hyundai', 'Model': 'Kona', 'Eco_Class': 'Electric', 'Manufacture_Year': 2022, 'Price': 35000, 'CarType': 'SUV', 'Cond': 'New', 'Dealership_num': 16},\n",
    "    {'VIN': '1GNSCBE03DR100013', 'Make': 'Chevrolet', 'Model': 'Suburban', 'Eco_Class': 'Hybrid', 'Manufacture_Year': 2017, 'Price': 28000, 'CarType': 'SUV', 'Cond': 'Used', 'Dealership_num': 16},\n",
    "    {'VIN': '5FNRL6H71JB100014', 'Make': 'Honda', 'Model': 'Pilot', 'Eco_Class': 'Hybrid', 'Manufacture_Year': 2021, 'Price': 40000, 'CarType': 'SUV', 'Cond': 'New', 'Dealership_num': 18},\n",
    "    {'VIN': 'WDCGG8JB9FG100015', 'Make': 'Mercedes-Benz', 'Model': 'GLC', 'Eco_Class': 'Electric', 'Manufacture_Year': 2023, 'Price': 55000, 'CarType': 'SUV', 'Cond': 'New', 'Dealership_num': 3},\n",
    "    {'VIN': 'JTDZN3EU2FJ100016', 'Make': 'Toyota', 'Model': 'Camry', 'Eco_Class': 'Hybrid', 'Manufacture_Year': 2019, 'Price': 25000, 'CarType': 'Sedan', 'Cond': 'Used', 'Dealership_num': 3},\n",
    "    {'VIN': '1C6SRFFT1MN100017', 'Make': 'Ram', 'Model': '1500', 'Eco_Class': 'Hybrid', 'Manufacture_Year': 2020, 'Price': 35000, 'CarType': 'SUV', 'Cond': 'Used', 'Dealership_num': 3},\n",
    "    {'VIN': '1G1RD6E40FU100018', 'Make': 'Chevrolet', 'Model': 'Spark', 'Eco_Class': 'Electric', 'Manufacture_Year': 2022, 'Price': 20000, 'CarType': 'Sedan', 'Cond': 'New', 'Dealership_num': 3},\n",
    "    {'VIN': 'JTHBE1BL0DA100019', 'Make': 'Lexus', 'Model': 'ES', 'Eco_Class': 'Hybrid', 'Manufacture_Year': 2021, 'Price': 42000, 'CarType': 'Sedan', 'Cond': 'New', 'Dealership_num': 3},\n",
    "    {'VIN': '2T1KR32E13C123456', 'Make': 'Toyota', 'Model': 'Corolla', 'Eco_Class': 'Hybrid', 'Manufacture_Year': 2022, 'Price': 28000, 'CarType': 'Sedan', 'Cond': 'New', 'Dealership_num': 3},\n",
    "    {'VIN': '1GNSCBE04ER654321', 'Make': 'Chevrolet', 'Model': 'Suburban', 'Eco_Class': 'Hybrid', 'Manufacture_Year': 2019, 'Price': 45000, 'CarType': 'SUV', 'Cond': 'Used', 'Dealership_num': 20},\n",
    "    {'VIN': '1FAHP3K21CL100001', 'Make': 'Ford', 'Model': 'Focus', 'Eco_Class': 'Electric', 'Manufacture_Year': 2018, 'Price': 22000, 'CarType': 'Sedan', 'Cond': 'Used', 'Dealership_num': 19},\n",
    "    {'VIN': 'JHMGE8H38CC100002', 'Make': 'Honda', 'Model': 'Fit', 'Eco_Class': 'Hybrid', 'Manufacture_Year': 2023, 'Price': 30000, 'CarType': 'Sedan', 'Cond': 'New', 'Dealership_num': 16},\n",
    "    {'VIN': '5TDYK3DC8ES100003', 'Make': 'Toyota', 'Model': 'Highlander', 'Eco_Class': 'Hybrid', 'Manufacture_Year': 2020, 'Price': 38000, 'CarType': 'SUV', 'Cond': 'Used', 'Dealership_num': 4},\n",
    "    {'VIN': '1GNKRHKD3GJ100004', 'Make': 'Chevrolet', 'Model': 'Traverse', 'Eco_Class': 'Hybrid', 'Manufacture_Year': 2021, 'Price': 32000, 'CarType': 'SUV', 'Cond': 'New', 'Dealership_num': 4},\n",
    "    {'VIN': '5FNRL6H7XGB100005', 'Make': 'Honda', 'Model': 'Odyssey', 'Eco_Class': 'Hybrid', 'Manufacture_Year': 2017, 'Price': 25000, 'CarType': 'Van', 'Cond': 'Used', 'Dealership_num': 4},\n",
    "    {'VIN': '1C4RDHDG0KC100006', 'Make': 'Dodge', 'Model': 'Durango', 'Eco_Class': 'Hybrid', 'Manufacture_Year': 2018, 'Price': 28000, 'CarType': 'SUV', 'Cond': 'Used', 'Dealership_num': 17},\n",
    "    {'VIN': '1HGCM82633A100007', 'Make': 'Honda', 'Model': 'Accord', 'Eco_Class': 'Hybrid', 'Manufacture_Year': 2020, 'Price': 29000, 'CarType': 'Sedan', 'Cond': 'Used', 'Dealership_num': 15},\n",
    "    {'VIN': '1G1FY6S07H5110008', 'Make': 'Chevrolet', 'Model': 'Camaro', 'Eco_Class': 'Electric', 'Manufacture_Year': 2019, 'Price': 35000, 'CarType': 'Coupe', 'Cond': 'Used', 'Dealership_num': 20},\n",
    "    {'VIN': 'JTHCE1BL5FA100009', 'Make': 'Lexus', 'Model': 'GS', 'Eco_Class': 'Hybrid', 'Manufacture_Year': 2022, 'Price': 48000, 'CarType': 'Sedan', 'Cond': 'New', 'Dealership_num': 5},\n",
    "    {'VIN': '3N1AB7AP5GY100010', 'Make': 'Nissan', 'Model': 'Leaf', 'Eco_Class': 'Electric', 'Manufacture_Year': 2023, 'Price': 30000, 'CarType': 'Hatchback', 'Cond': 'New', 'Dealership_num': 5},\n",
    "    {'VIN': '1GKKRPED7BJ100011', 'Make': 'GMC', 'Model': 'Acadia', 'Eco_Class': 'Hybrid', 'Manufacture_Year': 2017, 'Price': 26000, 'CarType': 'SUV', 'Cond': 'Used', 'Dealership_num': 5},\n",
    "    {'VIN': 'JTEBU5JR5G5270012', 'Make': 'Toyota', 'Model': '4Runner', 'Eco_Class': 'Hybrid', 'Manufacture_Year': 2021, 'Price': 42000, 'CarType': 'SUV', 'Cond': 'New', 'Dealership_num': 5},\n",
    "    {'VIN': '2HKRW1H8XJH100013', 'Make': 'Honda', 'Model': 'CR-V', 'Eco_Class': 'Hybrid', 'Manufacture_Year': 2020, 'Price': 33000, 'CarType': 'SUV', 'Cond': 'Used', 'Dealership_num': 11},\n",
    "    {'VIN': '1GNKVGKD1HJ100014', 'Make': 'Chevrolet', 'Model': 'Trax', 'Eco_Class': 'Electric', 'Manufacture_Year': 2018, 'Price': 24000, 'CarType': 'SUV', 'Cond': 'Used', 'Dealership_num': 12},\n",
    "    {'VIN': '1FADP3L96JL100015', 'Make': 'Ford', 'Model': 'Focus', 'Eco_Class': 'Electric', 'Manufacture_Year': 2022, 'Price': 32000, 'CarType': 'Hatchback', 'Cond': 'New', 'Dealership_num': 14},\n",
    "    {'VIN': '5NMS2CAD8KH100016', 'Make': 'Hyundai', 'Model': 'Santa Fe', 'Eco_Class': 'Hybrid', 'Manufacture_Year': 2019, 'Price': 36000, 'CarType': 'SUV', 'Cond': 'Used', 'Dealership_num': 6},\n",
    "    {'VIN': 'WBA4Z1C59JD100017', 'Make': 'BMW', 'Model': '440i', 'Eco_Class': 'Electric', 'Manufacture_Year': 2021, 'Price': 50000, 'CarType': 'Coupe', 'Cond': 'New', 'Dealership_num': 6},\n",
    "    {'VIN': '1HGCR2F55EA100018', 'Make': 'Honda', 'Model': 'Accord', 'Eco_Class': 'Hybrid', 'Manufacture_Year': 2018, 'Price': 27000, 'CarType': 'Sedan', 'Cond': 'Used', 'Dealership_num': 6},\n",
    "    {'VIN': '2T1BPRHE2EC123456', 'Make': 'Toyota', 'Model': 'Camry', 'Eco_Class': 'Hybrid', 'Manufacture_Year': 2022, 'Price': 28000, 'CarType': 'Sedan', 'Cond': 'New', 'Dealership_num': 6},\n",
    "    {'VIN': '1GNLREEDXCS654321', 'Make': 'Chevrolet', 'Model': 'Equinox', 'Eco_Class': 'Hybrid', 'Manufacture_Year': 2019, 'Price': 45000, 'CarType': 'SUV', 'Cond': 'Used', 'Dealership_num': 7},\n",
    "    {'VIN': '1FAHP3J27CL100019', 'Make': 'Ford', 'Model': 'Fiesta', 'Eco_Class': 'Electric', 'Manufacture_Year': 2018, 'Price': 22000, 'CarType': 'Hatchback', 'Cond': 'Used', 'Dealership_num': 7},\n",
    "    {'VIN': 'JHMGE8H88CC100020', 'Make': 'Honda', 'Model': 'Civic', 'Eco_Class': 'Hybrid', 'Manufacture_Year': 2023, 'Price': 30000, 'CarType': 'Sedan', 'Cond': 'New', 'Dealership_num': 7},\n",
    "    {'VIN': '5TDYK3EH8FS100021', 'Make': 'Toyota', 'Model': 'Sienna', 'Eco_Class': 'Hybrid', 'Manufacture_Year': 2020, 'Price': 38000, 'CarType': 'Van', 'Cond': 'Used', 'Dealership_num': 8},\n",
    "    {'VIN': '1GNKRHKD3GJ100022', 'Make': 'Chevrolet', 'Model': 'Traverse', 'Eco_Class': 'Hybrid', 'Manufacture_Year': 2021, 'Price': 32000, 'CarType': 'SUV', 'Cond': 'New', 'Dealership_num': 8},\n",
    "    {'VIN': '5FNRL6H7XGB100023', 'Make': 'Honda', 'Model': 'Odyssey', 'Eco_Class': 'Hybrid', 'Manufacture_Year': 2017, 'Price': 25000, 'CarType': 'Van', 'Cond': 'Used', 'Dealership_num': 8},\n",
    "    {'VIN': '1C4RDHDG0KC100024', 'Make': 'Dodge', 'Model': 'Durango', 'Eco_Class': 'Hybrid', 'Manufacture_Year': 2018, 'Price': 28000, 'CarType': 'SUV', 'Cond': 'Used', 'Dealership_num': 9},\n",
    "    {'VIN': '1HGCM82633A100025', 'Make': 'Honda', 'Model': 'Accord', 'Eco_Class': 'Hybrid', 'Manufacture_Year': 2020, 'Price': 29000, 'CarType': 'Sedan', 'Cond': 'Used', 'Dealership_num': 9}\n",
    "]\n",
    "\n",
    "print(car_data)"
   ]
  },
  {
   "cell_type": "code",
   "execution_count": 23,
   "id": "35872b55",
   "metadata": {},
   "outputs": [
    {
     "name": "stdout",
     "output_type": "stream",
     "text": [
      "[{'Contact_num': 1234567890, 'Dealership_num': 1, 'Num_of_cars': 50}, {'Contact_num': 2345678901, 'Dealership_num': 2, 'Num_of_cars': 65}, {'Contact_num': 3456789012, 'Dealership_num': 3, 'Num_of_cars': 42}, {'Contact_num': 4567890123, 'Dealership_num': 4, 'Num_of_cars': 55}, {'Contact_num': 5678901234, 'Dealership_num': 5, 'Num_of_cars': 38}, {'Contact_num': 6789012345, 'Dealership_num': 6, 'Num_of_cars': 70}, {'Contact_num': 7890123456, 'Dealership_num': 7, 'Num_of_cars': 48}, {'Contact_num': 8901234567, 'Dealership_num': 8, 'Num_of_cars': 62}, {'Contact_num': 9012345678, 'Dealership_num': 9, 'Num_of_cars': 53}, {'Contact_num': 1234567890, 'Dealership_num': 10, 'Num_of_cars': 45}, {'Contact_num': 2345678901, 'Dealership_num': 11, 'Num_of_cars': 60}, {'Contact_num': 3456789012, 'Dealership_num': 12, 'Num_of_cars': 39}, {'Contact_num': 4567890123, 'Dealership_num': 13, 'Num_of_cars': 57}, {'Contact_num': 5678901234, 'Dealership_num': 14, 'Num_of_cars': 68}, {'Contact_num': 6789012345, 'Dealership_num': 15, 'Num_of_cars': 43}, {'Contact_num': 7890123456, 'Dealership_num': 16, 'Num_of_cars': 51}, {'Contact_num': 8901234567, 'Dealership_num': 17, 'Num_of_cars': 64}, {'Contact_num': 9012345678, 'Dealership_num': 18, 'Num_of_cars': 49}, {'Contact_num': 1234567890, 'Dealership_num': 19, 'Num_of_cars': 36}, {'Contact_num': 2345678901, 'Dealership_num': 20, 'Num_of_cars': 52}]\n"
     ]
    }
   ],
   "source": [
    "dealership_data = [\n",
    "    {'Contact_num': 1234567890, 'Dealership_num': 1, 'Num_of_cars': 50},\n",
    "    {'Contact_num': 2345678901, 'Dealership_num': 2, 'Num_of_cars': 65},\n",
    "    {'Contact_num': 3456789012, 'Dealership_num': 3, 'Num_of_cars': 42},\n",
    "    {'Contact_num': 4567890123, 'Dealership_num': 4, 'Num_of_cars': 55},\n",
    "    {'Contact_num': 5678901234, 'Dealership_num': 5, 'Num_of_cars': 38},\n",
    "    {'Contact_num': 6789012345, 'Dealership_num': 6, 'Num_of_cars': 70},\n",
    "    {'Contact_num': 7890123456, 'Dealership_num': 7, 'Num_of_cars': 48},\n",
    "    {'Contact_num': 8901234567, 'Dealership_num': 8, 'Num_of_cars': 62},\n",
    "    {'Contact_num': 9012345678, 'Dealership_num': 9, 'Num_of_cars': 53},\n",
    "    {'Contact_num': 1234567890, 'Dealership_num': 10, 'Num_of_cars': 45},\n",
    "    {'Contact_num': 2345678901, 'Dealership_num': 11, 'Num_of_cars': 60},\n",
    "    {'Contact_num': 3456789012, 'Dealership_num': 12, 'Num_of_cars': 39},\n",
    "    {'Contact_num': 4567890123, 'Dealership_num': 13, 'Num_of_cars': 57},\n",
    "    {'Contact_num': 5678901234, 'Dealership_num': 14, 'Num_of_cars': 68},\n",
    "    {'Contact_num': 6789012345, 'Dealership_num': 15, 'Num_of_cars': 43},\n",
    "    {'Contact_num': 7890123456, 'Dealership_num': 16, 'Num_of_cars': 51},\n",
    "    {'Contact_num': 8901234567, 'Dealership_num': 17, 'Num_of_cars': 64},\n",
    "    {'Contact_num': 9012345678, 'Dealership_num': 18, 'Num_of_cars': 49},\n",
    "    {'Contact_num': 1234567890, 'Dealership_num': 19, 'Num_of_cars': 36},\n",
    "    {'Contact_num': 2345678901, 'Dealership_num': 20, 'Num_of_cars': 52}\n",
    "]\n",
    "print(dealership_data)"
   ]
  },
  {
   "cell_type": "code",
   "execution_count": 24,
   "id": "cdf48184",
   "metadata": {},
   "outputs": [
    {
     "name": "stdout",
     "output_type": "stream",
     "text": [
      "[{'Dealership_num': 1, 'Street': 'Main St', 'City': 'Dallas', 'State': 'TX', 'Zipcode': 75201}, {'Dealership_num': 2, 'Street': 'Broadway St', 'City': 'Boston', 'State': 'MA', 'Zipcode': 1089}, {'Dealership_num': 3, 'Street': 'Maple St', 'City': 'Detroit', 'State': 'MI', 'Zipcode': 48201}, {'Dealership_num': 4, 'Street': 'Oak St', 'City': 'Los Angeles', 'State': 'CA', 'Zipcode': 90001}, {'Dealership_num': 5, 'Street': 'Pine St', 'City': 'Minneapolis', 'State': 'MN', 'Zipcode': 55401}, {'Dealership_num': 6, 'Street': 'Cedar St', 'City': 'New York', 'State': 'NY', 'Zipcode': 10001}, {'Dealership_num': 7, 'Street': 'Elm St', 'City': 'Chicago', 'State': 'IL', 'Zipcode': 60601}, {'Dealership_num': 8, 'Street': 'Spruce St', 'City': 'Houston', 'State': 'TX', 'Zipcode': 77001}, {'Dealership_num': 9, 'Street': 'Birch St', 'City': 'San Francisco', 'State': 'CA', 'Zipcode': 94101}, {'Dealership_num': 10, 'Street': 'Willow St', 'City': 'Miami', 'State': 'FL', 'Zipcode': 33101}, {'Dealership_num': 11, 'Street': 'Juniper St', 'City': 'Seattle', 'State': 'WA', 'Zipcode': 98101}, {'Dealership_num': 12, 'Street': 'Cypress St', 'City': 'Atlanta', 'State': 'GA', 'Zipcode': 30301}, {'Dealership_num': 13, 'Street': 'Sycamore St', 'City': 'Denver', 'State': 'CO', 'Zipcode': 80201}, {'Dealership_num': 14, 'Street': 'Fir St', 'City': 'Phoenix', 'State': 'AZ', 'Zipcode': 85001}, {'Dealership_num': 15, 'Street': 'Hickory St', 'City': 'Philadelphia', 'State': 'PA', 'Zipcode': 19101}, {'Dealership_num': 16, 'Street': 'Chestnut St', 'City': 'New Orleans', 'State': 'LA', 'Zipcode': 70112}, {'Dealership_num': 17, 'Street': 'Walnut St', 'City': 'San Diego', 'State': 'CA', 'Zipcode': 92101}, {'Dealership_num': 18, 'Street': 'Redwood St', 'City': 'Austin', 'State': 'TX', 'Zipcode': 78701}, {'Dealership_num': 19, 'Street': 'Spruce St', 'City': 'Portland', 'State': 'OR', 'Zipcode': 97201}, {'Dealership_num': 20, 'Street': 'Palm St', 'City': 'Las Vegas', 'State': 'NV', 'Zipcode': 89101}]\n"
     ]
    }
   ],
   "source": [
    "dealership_location_data = [\n",
    "    {'Dealership_num': 1, 'Street': 'Main St', 'City': 'Dallas', 'State': 'TX', 'Zipcode': 75201},\n",
    "    {'Dealership_num': 2, 'Street': 'Broadway St', 'City': 'Boston', 'State': 'MA', 'Zipcode': 0o2101},\n",
    "    {'Dealership_num': 3, 'Street': 'Maple St', 'City': 'Detroit', 'State': 'MI', 'Zipcode': 48201},\n",
    "    {'Dealership_num': 4, 'Street': 'Oak St', 'City': 'Los Angeles', 'State': 'CA', 'Zipcode': 90001},\n",
    "    {'Dealership_num': 5, 'Street': 'Pine St', 'City': 'Minneapolis', 'State': 'MN', 'Zipcode': 55401},\n",
    "    {'Dealership_num': 6, 'Street': 'Cedar St', 'City': 'New York', 'State': 'NY', 'Zipcode': 10001},\n",
    "    {'Dealership_num': 7, 'Street': 'Elm St', 'City': 'Chicago', 'State': 'IL', 'Zipcode': 60601},\n",
    "    {'Dealership_num': 8, 'Street': 'Spruce St', 'City': 'Houston', 'State': 'TX', 'Zipcode': 77001},\n",
    "    {'Dealership_num': 9, 'Street': 'Birch St', 'City': 'San Francisco', 'State': 'CA', 'Zipcode': 94101},\n",
    "    {'Dealership_num': 10, 'Street': 'Willow St', 'City': 'Miami', 'State': 'FL', 'Zipcode': 33101},\n",
    "    {'Dealership_num': 11, 'Street': 'Juniper St', 'City': 'Seattle', 'State': 'WA', 'Zipcode': 98101},\n",
    "    {'Dealership_num': 12, 'Street': 'Cypress St', 'City': 'Atlanta', 'State': 'GA', 'Zipcode': 30301},\n",
    "    {'Dealership_num': 13, 'Street': 'Sycamore St', 'City': 'Denver', 'State': 'CO', 'Zipcode': 80201},\n",
    "    {'Dealership_num': 14, 'Street': 'Fir St', 'City': 'Phoenix', 'State': 'AZ', 'Zipcode': 85001},\n",
    "    {'Dealership_num': 15, 'Street': 'Hickory St', 'City': 'Philadelphia', 'State': 'PA', 'Zipcode': 19101},\n",
    "    {'Dealership_num': 16, 'Street': 'Chestnut St', 'City': 'New Orleans', 'State': 'LA', 'Zipcode': 70112},\n",
    "    {'Dealership_num': 17, 'Street': 'Walnut St', 'City': 'San Diego', 'State': 'CA', 'Zipcode': 92101},\n",
    "    {'Dealership_num': 18, 'Street': 'Redwood St', 'City': 'Austin', 'State': 'TX', 'Zipcode': 78701},\n",
    "    {'Dealership_num': 19, 'Street': 'Spruce St', 'City': 'Portland', 'State': 'OR', 'Zipcode': 97201},\n",
    "    {'Dealership_num': 20, 'Street': 'Palm St', 'City': 'Las Vegas', 'State': 'NV', 'Zipcode': 89101}\n",
    "]\n",
    "print(dealership_location_data)"
   ]
  },
  {
   "cell_type": "code",
   "execution_count": null,
   "id": "5cee6b14",
   "metadata": {},
   "outputs": [],
   "source": [
    "#Query.1: Retrieve all cars of a specific make\n",
    "make_to_search = 'Toyota'\n",
    "query = {'Make': make_to_search}\n",
    "toyota_cars = collection.find(query)\n",
    "for car in toyota_cars:\n",
    "    print(car)"
   ]
  },
  {
   "cell_type": "code",
   "execution_count": null,
   "id": "d59e583d",
   "metadata": {},
   "outputs": [],
   "source": [
    "#Query.2: Find Cars with a Price Less Than a Certain Amount:\n",
    "max_price = 30000\n",
    "query = {'Price': {'$lt': max_price}}\n",
    "affordable_cars = collection.find(query)\n",
    "for car in affordable_cars:\n",
    "    print(car)"
   ]
  },
  {
   "cell_type": "code",
   "execution_count": null,
   "id": "af82f712",
   "metadata": {},
   "outputs": [],
   "source": [
    "#Query.3: Find Electric Cars Manufactured After a Specific Year:\n",
    "min_year = 2022\n",
    "eco_class_to_search = 'Electric'\n",
    "query = {'Eco_Class': eco_class_to_search, 'Manufacture_Year': {'$gt': min_year}}\n",
    "electric_cars_after_2022 = collection.find(query)\n",
    "\n",
    "for car in electric_cars_after_2022:\n",
    "    print(f\"Make: {car['Make']}, Model: {car['Model']}\")"
   ]
  },
  {
   "cell_type": "code",
   "execution_count": null,
   "id": "43d0ed29",
   "metadata": {},
   "outputs": [],
   "source": [
    "#Query.4: Retrieve all dealerships with more than 50 cars\n",
    "num_cars_threshold = 50\n",
    "query = {'Num_of_cars': {'$gt': num_cars_threshold}}\n",
    "dealerships_over_50_cars = dealership_collection.find(query)\n",
    "\n",
    "for dealership in dealerships_over_50_cars:\n",
    "    print(dealership)"
   ]
  },
  {
   "cell_type": "code",
   "execution_count": null,
   "id": "be296aa7",
   "metadata": {},
   "outputs": [],
   "source": [
    "#Query.5: Retrieve the location of a specific dealership\n",
    "dealership_num_to_search = 3\n",
    "query = {'Dealership_num': dealership_num_to_search}\n",
    "location = location_collection.find_one(query)\n",
    "\n",
    "print(location)"
   ]
  },
  {
   "cell_type": "code",
   "execution_count": null,
   "id": "856c454e",
   "metadata": {},
   "outputs": [],
   "source": [
    "#to close the server connection\n",
    "client.close()"
   ]
  }
 ],
 "metadata": {
  "kernelspec": {
   "display_name": "Python 3 (ipykernel)",
   "language": "python",
   "name": "python3"
  },
  "language_info": {
   "codemirror_mode": {
    "name": "ipython",
    "version": 3
   },
   "file_extension": ".py",
   "mimetype": "text/x-python",
   "name": "python",
   "nbconvert_exporter": "python",
   "pygments_lexer": "ipython3",
   "version": "3.11.5"
  }
 },
 "nbformat": 4,
 "nbformat_minor": 5
}
